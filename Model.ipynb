{
 "cells": [
  {
   "cell_type": "code",
   "execution_count": 13,
   "id": "efeb1647-2c98-4043-b39a-77a67604548e",
   "metadata": {},
   "outputs": [],
   "source": [
    "#Import relevant libraries\n",
    "import numpy as np\n",
    "import tensorflow as tf"
   ]
  },
  {
   "cell_type": "code",
   "execution_count": 17,
   "id": "f4b43c1e-83e2-443b-a03a-0cfb21cf2916",
   "metadata": {},
   "outputs": [],
   "source": [
    "npz = np.load('Audiobooks_data_train.npz')\n",
    "\n",
    "#We also ensure here that targets are float\n",
    "train_inputs = npz['inputs'].astype(np.float64)\n",
    "#Targets must be int because of sparse_categorical_crossentropy\n",
    "train_targets = npz['targets'].astype(np.int32)\n",
    "\n",
    "#We load the validation data in the temporary variable\n",
    "npz = np.load('Audiobooks_data_validation.npz')\n",
    "#We can load the inputs and the targets in the same line\n",
    "validation_inputs, validation_targets = npz['inputs'].astype(np.float64), npz['targets'].astype(np.int32)\n",
    "\n",
    "#We load the test data in the temporary variable\n",
    "npz = np.load('Audiobooks_data_test.npz')\n",
    "#We create 2 variables that will contain the test inputs and the test targets\n",
    "test_inputs, test_targets = npz['inputs'].astype(np.float64), npz['targets'].astype(np.int32)"
   ]
  },
  {
   "cell_type": "code",
   "execution_count": 20,
   "id": "4ca7cd13-f0ec-41b7-a9ca-bdec3cee21ec",
   "metadata": {},
   "outputs": [
    {
     "name": "stdout",
     "output_type": "stream",
     "text": [
      "Epoch 1/100\n",
      "36/36 - 1s - loss: 0.6047 - accuracy: 0.6465 - val_loss: 0.5041 - val_accuracy: 0.7875 - 1s/epoch - 30ms/step\n",
      "Epoch 2/100\n",
      "36/36 - 0s - loss: 0.4785 - accuracy: 0.7516 - val_loss: 0.4287 - val_accuracy: 0.8188 - 88ms/epoch - 2ms/step\n",
      "Epoch 3/100\n",
      "36/36 - 0s - loss: 0.4229 - accuracy: 0.7751 - val_loss: 0.3873 - val_accuracy: 0.8233 - 72ms/epoch - 2ms/step\n",
      "Epoch 4/100\n",
      "36/36 - 0s - loss: 0.3934 - accuracy: 0.7932 - val_loss: 0.3665 - val_accuracy: 0.8434 - 96ms/epoch - 3ms/step\n",
      "Epoch 5/100\n",
      "36/36 - 0s - loss: 0.3754 - accuracy: 0.8011 - val_loss: 0.3663 - val_accuracy: 0.8031 - 84ms/epoch - 2ms/step\n",
      "Epoch 6/100\n",
      "36/36 - 0s - loss: 0.3675 - accuracy: 0.7966 - val_loss: 0.3439 - val_accuracy: 0.8367 - 68ms/epoch - 2ms/step\n",
      "Epoch 7/100\n",
      "36/36 - 0s - loss: 0.3604 - accuracy: 0.8025 - val_loss: 0.3372 - val_accuracy: 0.8255 - 94ms/epoch - 3ms/step\n",
      "Epoch 8/100\n",
      "36/36 - 0s - loss: 0.3560 - accuracy: 0.8058 - val_loss: 0.3328 - val_accuracy: 0.8322 - 92ms/epoch - 3ms/step\n",
      "Epoch 9/100\n",
      "36/36 - 0s - loss: 0.3509 - accuracy: 0.8075 - val_loss: 0.3323 - val_accuracy: 0.8166 - 95ms/epoch - 3ms/step\n",
      "Epoch 10/100\n",
      "36/36 - 0s - loss: 0.3469 - accuracy: 0.8134 - val_loss: 0.3250 - val_accuracy: 0.8300 - 88ms/epoch - 2ms/step\n",
      "Epoch 11/100\n",
      "36/36 - 0s - loss: 0.3439 - accuracy: 0.8122 - val_loss: 0.3274 - val_accuracy: 0.8277 - 87ms/epoch - 2ms/step\n",
      "Epoch 12/100\n",
      "36/36 - 0s - loss: 0.3418 - accuracy: 0.8122 - val_loss: 0.3198 - val_accuracy: 0.8300 - 89ms/epoch - 2ms/step\n",
      "Epoch 13/100\n",
      "36/36 - 0s - loss: 0.3372 - accuracy: 0.8131 - val_loss: 0.3274 - val_accuracy: 0.8098 - 90ms/epoch - 2ms/step\n",
      "Epoch 14/100\n",
      "36/36 - 0s - loss: 0.3355 - accuracy: 0.8136 - val_loss: 0.3190 - val_accuracy: 0.8300 - 83ms/epoch - 2ms/step\n",
      "Epoch 15/100\n",
      "36/36 - 0s - loss: 0.3357 - accuracy: 0.8122 - val_loss: 0.3142 - val_accuracy: 0.8345 - 88ms/epoch - 2ms/step\n",
      "Epoch 16/100\n",
      "36/36 - 0s - loss: 0.3348 - accuracy: 0.8181 - val_loss: 0.3325 - val_accuracy: 0.8166 - 83ms/epoch - 2ms/step\n",
      "Epoch 17/100\n",
      "36/36 - 0s - loss: 0.3339 - accuracy: 0.8150 - val_loss: 0.3121 - val_accuracy: 0.8412 - 75ms/epoch - 2ms/step\n",
      "Epoch 18/100\n",
      "36/36 - 0s - loss: 0.3301 - accuracy: 0.8245 - val_loss: 0.3217 - val_accuracy: 0.8188 - 92ms/epoch - 3ms/step\n",
      "Epoch 19/100\n",
      "36/36 - 0s - loss: 0.3343 - accuracy: 0.8111 - val_loss: 0.3055 - val_accuracy: 0.8412 - 84ms/epoch - 2ms/step\n",
      "Epoch 20/100\n",
      "36/36 - 0s - loss: 0.3296 - accuracy: 0.8198 - val_loss: 0.3210 - val_accuracy: 0.8166 - 98ms/epoch - 3ms/step\n",
      "Epoch 21/100\n",
      "36/36 - 0s - loss: 0.3280 - accuracy: 0.8209 - val_loss: 0.3113 - val_accuracy: 0.8277 - 97ms/epoch - 3ms/step\n"
     ]
    },
    {
     "data": {
      "text/plain": [
       "<keras.src.callbacks.History at 0x1cc6bfdb710>"
      ]
     },
     "execution_count": 20,
     "metadata": {},
     "output_type": "execute_result"
    }
   ],
   "source": [
    "tf.compat.v1.train.Optimizer\n",
    "tf.compat.v1.get_default_graph\n",
    "tf.compat.v1.ragged.RaggedTensorValue\n",
    "# Set the input and output sizes and no. of nodes on the hidden layer\n",
    "input_size = 10\n",
    "output_size = 2\n",
    "hidden_layer_size = 50\n",
    "    \n",
    "#Define how the model will look like\n",
    "model = tf.keras.Sequential([\n",
    "    tf.keras.layers.Dense(hidden_layer_size, activation='relu'), # 1st hidden layer\n",
    "    tf.keras.layers.Dense(hidden_layer_size, activation='relu'), # 2nd hidden layer\n",
    "    tf.keras.layers.Dense(output_size, activation='softmax') # output layer\n",
    "])\n",
    "\n",
    "\n",
    "optimizer = tf.keras.optimizers.Adam(learning_rate=0.001)\n",
    "model.compile(optimizer, loss='sparse_categorical_crossentropy', metrics=['accuracy'])\n",
    "\n",
    "### Training\n",
    "\n",
    "#Setting the batch size\n",
    "batch_size = 100\n",
    "\n",
    "#Set a maximum number of training epochs\n",
    "max_epochs = 100\n",
    "\n",
    "#Setting an early stopping mechanism\n",
    "early_stopping = tf.keras.callbacks.EarlyStopping(patience=2)\n",
    "\n",
    "#Fit the model\n",
    "model.fit(train_inputs, # train inputs\n",
    "          train_targets, # train targets\n",
    "          batch_size=batch_size, # batch size\n",
    "          epochs=max_epochs, # epochs that we will train for (assuming early stopping doesn't kick in)\n",
    "          callbacks=[early_stopping], # early stopping\n",
    "          validation_data=(validation_inputs, validation_targets), # validation data\n",
    "          verbose = 2 # making sure we get enough information about the training process\n",
    "          )  "
   ]
  },
  {
   "cell_type": "code",
   "execution_count": 21,
   "id": "00bc7fe4-6419-4313-a9be-425582fddb66",
   "metadata": {},
   "outputs": [
    {
     "name": "stdout",
     "output_type": "stream",
     "text": [
      "14/14 [==============================] - 0s 2ms/step - loss: 0.3147 - accuracy: 0.8393\n"
     ]
    }
   ],
   "source": [
    "#testing the model on test data\n",
    "test_loss, test_accuracy = model.evaluate(test_inputs, test_targets)"
   ]
  },
  {
   "cell_type": "code",
   "execution_count": 22,
   "id": "63aadc7d-19e2-4c2e-bb27-3e6d769e9c86",
   "metadata": {},
   "outputs": [
    {
     "name": "stdout",
     "output_type": "stream",
     "text": [
      "\n",
      "Test loss: 0.31. Test accuracy: 83.93%\n"
     ]
    }
   ],
   "source": [
    "print('\\nTest loss: {0:.2f}. Test accuracy: {1:.2f}%'.format(test_loss, test_accuracy*100.))"
   ]
  }
 ],
 "metadata": {
  "kernelspec": {
   "display_name": "Python 3 (ipykernel)",
   "language": "python",
   "name": "python3"
  },
  "language_info": {
   "codemirror_mode": {
    "name": "ipython",
    "version": 3
   },
   "file_extension": ".py",
   "mimetype": "text/x-python",
   "name": "python",
   "nbconvert_exporter": "python",
   "pygments_lexer": "ipython3",
   "version": "3.11.7"
  }
 },
 "nbformat": 4,
 "nbformat_minor": 5
}
